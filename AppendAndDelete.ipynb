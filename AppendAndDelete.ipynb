{
 "cells": [
  {
   "cell_type": "code",
   "execution_count": 1,
   "metadata": {},
   "outputs": [],
   "source": [
    "def appendAndDelete(s, t, k):\n",
    "    c=0\n",
    "    for i in range(min(len(s),len(t))):\n",
    "        if(s[i]==t[i]):\n",
    "            c=c+1\n",
    "        else:\n",
    "            break\n",
    "    a=len(s)-c\n",
    "    b=len(t)-c\n",
    "    if(k>=(a+b)):\n",
    "        if((a+b)==0 and len(t)<k):\n",
    "            return 'Yes'    \n",
    "        elif(k>(len(s)+len(t))):\n",
    "            return 'Yes'\n",
    "        elif((k-(a+b))%2==0):\n",
    "            return 'Yes'\n",
    "        else:\n",
    "            return 'No'\n",
    "    else:\n",
    "        return 'No'"
   ]
  },
  {
   "cell_type": "code",
   "execution_count": 2,
   "metadata": {},
   "outputs": [
    {
     "data": {
      "text/plain": [
       "'Yes'"
      ]
     },
     "execution_count": 2,
     "metadata": {},
     "output_type": "execute_result"
    }
   ],
   "source": [
    "appendAndDelete('abcdef','fedcba',15)"
   ]
  }
 ],
 "metadata": {
  "kernelspec": {
   "display_name": "Python 3",
   "language": "python",
   "name": "python3"
  },
  "language_info": {
   "codemirror_mode": {
    "name": "ipython",
    "version": 3
   },
   "file_extension": ".py",
   "mimetype": "text/x-python",
   "name": "python",
   "nbconvert_exporter": "python",
   "pygments_lexer": "ipython3",
   "version": "3.8.3"
  }
 },
 "nbformat": 4,
 "nbformat_minor": 4
}
